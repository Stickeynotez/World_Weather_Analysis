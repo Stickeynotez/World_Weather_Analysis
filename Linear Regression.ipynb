{
 "cells": [
  {
   "cell_type": "code",
   "execution_count": 1,
   "id": "0c7ed785",
   "metadata": {},
   "outputs": [],
   "source": [
    "from scipy.stats import linregress\n",
    "import matplotlib.pyplot as plt"
   ]
  },
  {
   "cell_type": "code",
   "execution_count": null,
   "id": "4c032259",
   "metadata": {},
   "outputs": [],
   "source": [
    "linregress(daylight,temps)\n",
    "\n",
    "(slope, intercept, rval, pval, stderr) = linregress(daylight,temps)"
   ]
  },
  {
   "cell_type": "code",
   "execution_count": null,
   "id": "ede91cae",
   "metadata": {},
   "outputs": [],
   "source": [
    "line_eq = \"y = \" +str(round(slope,2)) + \"x +\" +str(round(intercept,2))\n",
    "print(line_eq)"
   ]
  },
  {
   "cell_type": "code",
   "execution_count": null,
   "id": "dc9f3397",
   "metadata": {},
   "outputs": [],
   "source": [
    "regress_values = [(day * slope + intercept) for day in daylight] "
   ]
  },
  {
   "cell_type": "code",
   "execution_count": null,
   "id": "6d7e0273",
   "metadata": {},
   "outputs": [],
   "source": [
    "plt.scatter(daylight,temps)\n",
    "plt.plot(daylight, regress_values)\n"
   ]
  }
 ],
 "metadata": {
  "kernelspec": {
   "display_name": "PythonData",
   "language": "python",
   "name": "pythondata"
  },
  "language_info": {
   "codemirror_mode": {
    "name": "ipython",
    "version": 3
   },
   "file_extension": ".py",
   "mimetype": "text/x-python",
   "name": "python",
   "nbconvert_exporter": "python",
   "pygments_lexer": "ipython3",
   "version": "3.7.11"
  }
 },
 "nbformat": 4,
 "nbformat_minor": 5
}
