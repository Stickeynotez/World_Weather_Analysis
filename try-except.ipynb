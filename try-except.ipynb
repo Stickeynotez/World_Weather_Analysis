{
 "cells": [
  {
   "cell_type": "code",
   "execution_count": 2,
   "id": "f25db0dc",
   "metadata": {},
   "outputs": [],
   "source": [
    "import requests as req\n",
    "from config import weather_api_key"
   ]
  },
  {
   "cell_type": "code",
   "execution_count": 3,
   "id": "0cddcc25",
   "metadata": {},
   "outputs": [],
   "source": [
    "url = \"http://api.openweathermap.org/data/2.5/weather?units=Imperial&APPID=\" + weather_api_key"
   ]
  },
  {
   "cell_type": "code",
   "execution_count": 9,
   "id": "732e09f4",
   "metadata": {},
   "outputs": [],
   "source": [
    "cities = ['Pittsburgh','Austin','New  York', 'Los Angeles', 'Seattle']"
   ]
  },
  {
   "cell_type": "code",
   "execution_count": 14,
   "id": "39376e53",
   "metadata": {},
   "outputs": [
    {
     "name": "stdout",
     "output_type": "stream",
     "text": [
      "It is currently 43.83 degrees in Pittsburgh\n",
      "It is currently 74.52 degrees in Austin\n",
      "KeyError recieve for New  York\n",
      "It is currently 57.47 degrees in Los Angeles\n",
      "It is currently 44.06 degrees in Seattle\n"
     ]
    }
   ],
   "source": [
    "for city in cities:\n",
    "    try:\n",
    "        city_url = url + '&q=' + city\n",
    "        weather = req.get(city_url).json()\n",
    "        temp = weather['main']['temp']\n",
    "    except KeyError:\n",
    "        print(f\"KeyError recieve for {city}\")\n",
    "        continue\n",
    "    print(f\"It is currently {temp} degrees in {city}\")\n",
    "    "
   ]
  },
  {
   "cell_type": "code",
   "execution_count": null,
   "id": "f32e0027",
   "metadata": {},
   "outputs": [],
   "source": []
  }
 ],
 "metadata": {
  "kernelspec": {
   "display_name": "PythonData",
   "language": "python",
   "name": "pythondata"
  },
  "language_info": {
   "codemirror_mode": {
    "name": "ipython",
    "version": 3
   },
   "file_extension": ".py",
   "mimetype": "text/x-python",
   "name": "python",
   "nbconvert_exporter": "python",
   "pygments_lexer": "ipython3",
   "version": "3.7.11"
  }
 },
 "nbformat": 4,
 "nbformat_minor": 5
}
